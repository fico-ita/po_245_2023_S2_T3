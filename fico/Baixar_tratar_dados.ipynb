{
 "cells": [
  {
   "cell_type": "code",
   "execution_count": 2,
   "metadata": {},
   "outputs": [],
   "source": [
    "from modules.Colher_tratar_dados.Dados_Fund.Baixar_dados_comdinheiro import Baixar_dados\n",
    "\n",
    "# %%\n",
    "username = \"\"\n",
    "password = \"\"\n",
    "lista_atualizar_todos_ativos = [\"Todos\"]\n",
    "\n",
    "Baixar_dados(username, password, True, True, True, [\"ABEV3\", \"RADL3\"])"
   ]
  },
  {
   "cell_type": "code",
   "execution_count": null,
   "metadata": {},
   "outputs": [],
   "source": [
    "from modules.Colher_tratar_dados.Dados_Fund.Tratar_dados_Fund import Tratar_dados_fund\n",
    "\n",
    "Tratar_dados_fund()"
   ]
  },
  {
   "cell_type": "code",
   "execution_count": 4,
   "metadata": {},
   "outputs": [
    {
     "name": "stdout",
     "output_type": "stream",
     "text": [
      "Fim do Tratamento de df_Selic\n",
      "Fim do Tratamento de Expectativa Selic\n"
     ]
    }
   ],
   "source": [
    "from modules.Colher_tratar_dados.SELIC_ARIMA.Tratar_SELIC import (\n",
    "    Tratar_baixar_SELIC_expec_SELIC,\n",
    ")\n",
    "\n",
    "Tratar_baixar_SELIC_expec_SELIC()"
   ]
  }
 ],
 "metadata": {
  "kernelspec": {
   "display_name": "Python 3",
   "language": "python",
   "name": "python3"
  },
  "language_info": {
   "codemirror_mode": {
    "name": "ipython",
    "version": 3
   },
   "file_extension": ".py",
   "mimetype": "text/x-python",
   "name": "python",
   "nbconvert_exporter": "python",
   "pygments_lexer": "ipython3",
   "version": "3.11.4"
  }
 },
 "nbformat": 4,
 "nbformat_minor": 2
}
