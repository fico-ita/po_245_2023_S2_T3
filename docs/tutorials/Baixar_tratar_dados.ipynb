{
 "cells": [
  {
   "cell_type": "markdown",
   "metadata": {},
   "source": [
    "## Tutorial: Baixar Dados do Comdinheiro\n",
    "\n",
    "Este tutorial orienta sobre como utilizar o código para baixar dados do Comdinheiro. Siga os passos abaixo para realizar o download dos dados desejados.\n",
    "\n",
    "### Pré-requisitos\n",
    "\n",
    "Antes de começar, certifique-se de ter os seguintes itens:\n",
    "\n",
    "- **Conta no Comdinheiro:** É necessário ter uma conta no Comdinheiro com acesso às funcionalidades de download de dados.\n",
    "\n",
    "### Passo 1: Importar o Módulo `Baixar_dados_comdinheiro`\n"
   ]
  },
  {
   "cell_type": "code",
   "execution_count": null,
   "metadata": {},
   "outputs": [],
   "source": [
    "from fico.Baixar_dados_comdinheiro import Baixar_dados"
   ]
  },
  {
   "cell_type": "markdown",
   "metadata": {},
   "source": [
    "Importe a função `Baixar_dados` do módulo `Baixar_dados_comdinheiro` para utilizá-la no script.\n",
    "\n",
    "### Passo 2: Preencher as Credenciais"
   ]
  },
  {
   "cell_type": "code",
   "execution_count": null,
   "metadata": {},
   "outputs": [],
   "source": [
    "# Preencha suas credenciais do Comdinheiro\n",
    "username = \"SeuUsuario\"\n",
    "password = \"SuaSenha\"\n"
   ]
  },
  {
   "cell_type": "markdown",
   "metadata": {},
   "source": [
    "Substitua `\"SeuUsuario\"` e `\"SuaSenha\"` pelos seus dados de login no Comdinheiro.\n",
    "\n",
    "### Passo 3: Configurar Opções de Download"
   ]
  },
  {
   "cell_type": "code",
   "execution_count": null,
   "metadata": {},
   "outputs": [],
   "source": [
    "# Configurações para o download\n",
    "atualizar_ativos = True\n",
    "atualizar_cot = True\n",
    "atualizar_eventos = True\n",
    "lista_ativos = [\"RADL3\"]  # Adicione os tickers das ações desejadas\n"
   ]
  },
  {
   "cell_type": "markdown",
   "metadata": {},
   "source": [
    "Defina as opções de download conforme sua necessidade:\n",
    "- `atualizar_ativos`: Atualizar informações sobre os balanços dos ativos.\n",
    "- `atualizar_cot`: Atualizar dados das cotações.\n",
    "- `atualizar_eventos`: Atualizar dados de eventos como proventos, desdobramento e grupamento.\n",
    "- `lista_ativos`: Lista de tickers das ações a serem baixadas. Se `[\"Todos\"]`, todos os ativos disponíveis serão baixados.\n",
    "\n",
    "### Passo 4: Executar o Download"
   ]
  },
  {
   "cell_type": "code",
   "execution_count": null,
   "metadata": {},
   "outputs": [],
   "source": [
    "Baixar_dados(username, password, atualizar_ativos, atualizar_cot, atualizar_eventos, lista_ativos)\n"
   ]
  },
  {
   "cell_type": "markdown",
   "metadata": {},
   "source": [
    "Chame a função `Baixar_dados` com as informações fornecidas nos passos anteriores. Isso iniciará o processo de download dos dados do Comdinheiro.\n",
    "\n",
    "### Observações Importantes\n",
    "\n",
    "- Certifique-se de manter suas credenciais em local seguro e não compartilhá-las.\n",
    "- Para baixar informações de todas as ações disponíveis, defina `lista_ativos` como `[\"Todos\"]`.\n",
    "- Esteja ciente das políticas de uso do Comdinheiro ao automatizar o download de dados.\n",
    "\n",
    "Ao seguir esses passos, você poderá baixar dados do Comdinheiro de maneira eficiente."
   ]
  },
  {
   "cell_type": "code",
   "execution_count": 6,
   "metadata": {},
   "outputs": [
    {
     "name": "stdout",
     "output_type": "stream",
     "text": [
      "Entrou em EQTL3\n",
      "Deu certo EQTL3\n"
     ]
    }
   ],
   "source": [
    "from fico.Tratar_dados_Fund import Tratar_dados_fund\n",
    "lista_atualizar_todos_ativos = [\"Todos\"]\n",
    "Tratar_dados_fund([\"EQTL3\"])"
   ]
  },
  {
   "cell_type": "markdown",
   "metadata": {},
   "source": [
    "## Tutorial: Tratar Dados Fundamentais\n",
    "\n",
    "Nesta etapa, iremos tratar os dados fundamentais das ações. Siga os passos abaixo para realizar o tratamento dos dados.\n",
    "\n",
    "### Passo 1: Importar o Módulo `Tratar_dados_Fund`\n",
    "\n"
   ]
  },
  {
   "cell_type": "code",
   "execution_count": null,
   "metadata": {},
   "outputs": [],
   "source": [
    "from fico.Tratar_dados_Fund import Tratar_dados_fund\n"
   ]
  },
  {
   "cell_type": "markdown",
   "metadata": {},
   "source": [
    "Importe a função `Tratar_dados_fund` do módulo `Tratar_dados_Fund` para utilizá-la no script.\n",
    "\n",
    "### Passo 2: Configurar Opções de Tratamento\n",
    "\n",
    "\n"
   ]
  },
  {
   "cell_type": "code",
   "execution_count": null,
   "metadata": {},
   "outputs": [],
   "source": [
    "lista_ativos = [\"EQTL3\"]  # Adicione os tickers das ações a serem tratadas\n"
   ]
  },
  {
   "cell_type": "markdown",
   "metadata": {},
   "source": [
    "Defina a lista de tickers das ações que serão tratadas. Se `[\"Todos\"]`, todas as ações disponíveis serão tratadas.\n",
    "\n",
    "### Passo 3: Executar o Tratamento dos Dados\n",
    "\n"
   ]
  },
  {
   "cell_type": "code",
   "execution_count": null,
   "metadata": {},
   "outputs": [],
   "source": [
    "Tratar_dados_fund(lista_ativos)\n"
   ]
  },
  {
   "cell_type": "markdown",
   "metadata": {},
   "source": [
    "Chame a função `Tratar_dados_fund` com as informações fornecidas no Passo 2. Isso iniciará o processo de tratamento dos dados fundamentais.\n",
    "\n",
    "### Observações Importantes\n",
    "\n",
    "- O tratamento dos dados fundamentais envolve a normalização e correção de diversas métricas financeiras.\n",
    "- Certifique-se de ter baixado os dados fundamentais anteriormente.\n",
    "\n",
    "Ao seguir esses passos, você terá os dados fundamentais tratados e prontos para análise.\n",
    "\n",
    "---\n",
    "**Nota:** Mantenha uma cópia dos dados originais antes de realizar qualquer tratamento, caso seja necessário comparar ou reverter alterações.\n",
    "\n",
    "Este tutorial é parte do processo de análise de dados no contexto do projeto.\n",
    "\n",
    "---"
   ]
  },
  {
   "cell_type": "markdown",
   "metadata": {},
   "source": [
    "## Tutorial: Baixar e Tratar Dados SELIC\n",
    "\n",
    "Nesta etapa, vamos baixar e tratar os dados históricos da SELIC e das expectativas de SELIC.\n",
    "\n",
    "### Passo 1: Importar o Módulo `Tratar_SELIC`\n",
    "\n"
   ]
  },
  {
   "cell_type": "code",
   "execution_count": null,
   "metadata": {},
   "outputs": [],
   "source": [
    "from fico.Tratar_SELIC import Tratar_baixar_SELIC_expec_SELIC"
   ]
  },
  {
   "cell_type": "markdown",
   "metadata": {},
   "source": [
    "Importe a função `Tratar_baixar_SELIC_expec_SELIC` do módulo `Tratar_SELIC` para utilizá-la no script.\n",
    "\n",
    "### Passo 2: Configurar Opções e Executar o Tratamento\n"
   ]
  },
  {
   "cell_type": "code",
   "execution_count": null,
   "metadata": {},
   "outputs": [],
   "source": [
    "Tratar_baixar_SELIC_expec_SELIC()"
   ]
  },
  {
   "cell_type": "markdown",
   "metadata": {},
   "source": [
    "Chame a função `Tratar_baixar_SELIC_expec_SELIC` para realizar o download dos dados históricos da SELIC e das expectativas de SELIC e aplicar os devidos tratamentos.\n",
    "\n",
    "### Observações Importantes\n",
    "\n",
    "- Este processo utiliza a API do Banco Central Brasileiro (BCB) para obter os dados da SELIC e das expectativas.\n",
    "- Certifique-se de ter uma conexão com a internet ativa para baixar os dados.\n",
    "\n",
    "Ao seguir esses passos, você terá os dados históricos da SELIC e expectativas de SELIC tratados e prontos para análise.\n",
    "\n",
    "---\n",
    "**Nota:** Mantenha uma cópia dos dados originais antes de realizar qualquer tratamento, caso seja necessário comparar ou reverter alterações.\n",
    "\n",
    "Este tutorial é parte do processo de análise de dados no contexto do projeto.\n",
    "\n",
    "---"
   ]
  }
 ],
 "metadata": {
  "kernelspec": {
   "display_name": "Python 3",
   "language": "python",
   "name": "python3"
  },
  "language_info": {
   "codemirror_mode": {
    "name": "ipython",
    "version": 3
   },
   "file_extension": ".py",
   "mimetype": "text/x-python",
   "name": "python",
   "nbconvert_exporter": "python",
   "pygments_lexer": "ipython3",
   "version": "3.11.4"
  }
 },
 "nbformat": 4,
 "nbformat_minor": 2
}
