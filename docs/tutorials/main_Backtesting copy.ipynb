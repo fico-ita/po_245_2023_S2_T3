{
 "cells": [
  {
   "cell_type": "code",
   "execution_count": 1,
   "metadata": {},
   "outputs": [],
   "source": [
    "from fico.Back_test import Func_retorno_carteira\n",
    "from fico.Backtesting_Module_generate_html import Func_relatorio_html\n",
    "from datetime import datetime"
   ]
  },
  {
   "cell_type": "code",
   "execution_count": 2,
   "metadata": {},
   "outputs": [],
   "source": [
    "# Benchmark\n",
    "benchmark_titulo = \"IBOV\"\n",
    "\n",
    "# Nome do arquivo\n",
    "nome_arquivo = \"Estrategia_Fundamentalista.html\"\n",
    "\n",
    "# Título do relatório\n",
    "titulo = \"Portfolio Máximo Sharpe\"\n",
    "\n",
    "data_inical = datetime(2013, 1, 1)\n",
    "data_inical = datetime(2021,2,13)\n",
    "data_final = datetime(2023, 11, 3)"
   ]
  },
  {
   "cell_type": "code",
   "execution_count": 3,
   "metadata": {},
   "outputs": [
    {
     "name": "stdout",
     "output_type": "stream",
     "text": [
      "Relatório HTML gerado com sucesso!\n"
     ]
    }
   ],
   "source": [
    "(\n",
    "    retorno_carteira,\n",
    "    serie_IBOV,\n",
    "    serie_LFTS3,\n",
    "    df_portifolio_total,\n",
    "    df_benchmark,\n",
    "    indices_benchmark,\n",
    "    df_exportar,\n",
    "    info_verificao_total,\n",
    ") = Func_retorno_carteira(\n",
    "    data_simulacao_inicial=data_inical,\n",
    "    data_simulacao_final=data_final,\n",
    "    Capital_Inicial=100000,\n",
    "    dias_rebalancear=60,\n",
    "    maior_per_ativo=0.5,\n",
    "    maior_per_setor=0.5,\n",
    "    min_RF=0.0,\n",
    "    gamma_tun=1,\n",
    "    menor_per_aloc=0.005,\n",
    ")\n",
    "## Gerar HTML\n",
    "Func_relatorio_html(\n",
    "    retorno_carteira, serie_IBOV, benchmark_titulo, nome_arquivo, titulo\n",
    ")"
   ]
  },
  {
   "cell_type": "code",
   "execution_count": 4,
   "metadata": {},
   "outputs": [],
   "source": [
    "from fico.Backtesting_export_excel import Func_exportar_excel"
   ]
  },
  {
   "cell_type": "code",
   "execution_count": 5,
   "metadata": {},
   "outputs": [],
   "source": [
    "# Exportar para Excel\n",
    "try:\n",
    "    Func_exportar_excel(\n",
    "        info_verificao_total,\n",
    "        df_benchmark,\n",
    "        df_exportar,\n",
    "        indices_benchmark,\n",
    "        excel_file=\"Alocação.xlsx\",\n",
    "    )\n",
    "except:\n",
    "    input(\"Fechar o Excel e apertar Enter para continuar\")\n",
    "    Func_exportar_excel(\n",
    "        info_verificao_total,\n",
    "        df_benchmark,\n",
    "        df_exportar,\n",
    "        indices_benchmark,\n",
    "        excel_file=\"Alocação.xlsx\",\n",
    "    )"
   ]
  },
  {
   "cell_type": "markdown",
   "metadata": {},
   "source": []
  }
 ],
 "metadata": {
  "kernelspec": {
   "display_name": "Python 3",
   "language": "python",
   "name": "python3"
  },
  "language_info": {
   "codemirror_mode": {
    "name": "ipython",
    "version": 3
   },
   "file_extension": ".py",
   "mimetype": "text/x-python",
   "name": "python",
   "nbconvert_exporter": "python",
   "pygments_lexer": "ipython3",
   "version": "3.11.4"
  }
 },
 "nbformat": 4,
 "nbformat_minor": 2
}
