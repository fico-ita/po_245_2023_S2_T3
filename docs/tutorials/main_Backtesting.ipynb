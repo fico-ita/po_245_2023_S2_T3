{
 "cells": [
  {
   "cell_type": "markdown",
   "metadata": {},
   "source": [
    "## Tutorial: Backtesting e Geração de Relatório HTML\n",
    "\n",
    "Nesta etapa, realizaremos o backtesting da estratégia e geraremos um relatório HTML para análise.\n",
    "\n",
    "### Passo 1: Importar Módulos Necessários"
   ]
  },
  {
   "cell_type": "code",
   "execution_count": 1,
   "metadata": {},
   "outputs": [],
   "source": [
    "from fico.Back_test import Func_retorno_carteira\n",
    "from fico.Backtesting_Module_generate_html import Func_relatorio_html\n",
    "from datetime import datetime"
   ]
  },
  {
   "cell_type": "markdown",
   "metadata": {},
   "source": [
    "Importe as funções `Func_retorno_carteira` e `Func_relatorio_html` necessárias para realizar o backtesting e gerar o relatório HTML.\n",
    "\n",
    "### Passo 2: Configurar Parâmetros e Executar Backtesting"
   ]
  },
  {
   "cell_type": "code",
   "execution_count": 2,
   "metadata": {},
   "outputs": [],
   "source": [
    "# Definir parâmetros\n",
    "benchmark_titulo = \"IBOV\"\n",
    "nome_arquivo = \"Estrategia_Fundamentalista.html\"\n",
    "titulo = \"Portfolio Máximo Sharpe\"\n",
    "\n",
    "data_inicial = datetime(2013, 1, 1)\n",
    "data_final = datetime(2023, 9, 25)\n",
    "\n",
    "# Executar backtesting\n",
    "(retorno_carteira,\n",
    "    serie_IBOV,\n",
    "    serie_LFTS3,\n",
    "    df_portifolio_total,\n",
    "    df_benchmark,\n",
    "    indices_benchmark,\n",
    "    df_exportar,\n",
    "    info_verificao_total, )= Func_retorno_carteira(\n",
    "    data_simulacao_inicial=data_inicial,\n",
    "    data_simulacao_final=data_final,\n",
    "    Capital_Inicial=100000,\n",
    "    dias_rebalancear=60,\n",
    "    maior_per_ativo=0.5,\n",
    "    maior_per_setor=0.5, \n",
    "    min_RF=0.25,\n",
    "    gamma_tun=1,\n",
    "    menor_per_aloc=0.005,\n",
    ")"
   ]
  },
  {
   "cell_type": "markdown",
   "metadata": {},
   "source": [
    "Chame a função `Func_retorno_carteira` com os parâmetros desejados para realizar o backtesting. Os resultados serão armazenados nas variáveis `retorno_carteira`, `serie_IBOV` e outras.\n",
    "\n",
    "### Passo 3: Gerar Relatório HTML"
   ]
  },
  {
   "cell_type": "code",
   "execution_count": 3,
   "metadata": {},
   "outputs": [
    {
     "name": "stdout",
     "output_type": "stream",
     "text": [
      "Relatório HTML gerado com sucesso!\n"
     ]
    }
   ],
   "source": [
    "# Gerar relatório HTML\n",
    "Func_relatorio_html(\n",
    "    retorno_carteira, serie_IBOV, benchmark_titulo, nome_arquivo, titulo\n",
    ")"
   ]
  },
  {
   "cell_type": "markdown",
   "metadata": {},
   "source": [
    "Chame a função `Func_relatorio_html` para gerar o relatório HTML com base nos resultados do backtesting.\n",
    "\n",
    "### Observações Importantes\n",
    "\n",
    "- Certifique-se de ter os módulos `Back_test` e `Backtesting_Module_generate_html` disponíveis no ambiente de execução.\n",
    "- Ajuste os parâmetros conforme necessário para a sua estratégia.\n",
    "\n",
    "Ao seguir esses passos, você terá o backtesting realizado e um relatório HTML gerado para análise.\n",
    "\n",
    "---\n",
    "**Nota:** Analise cuidadosamente os resultados do backtesting e use as informações geradas para otimizar sua estratégia.\n",
    "\n",
    "Este tutorial é parte do processo de análise de dados no contexto do projeto.\n",
    "\n",
    "---"
   ]
  },
  {
   "cell_type": "markdown",
   "metadata": {},
   "source": [
    "## Tutorial: Exportação de Resultados para Excel\n",
    "\n",
    "Nesta etapa, exportaremos os resultados do backtesting para um arquivo Excel para uma análise mais detalhada.\n",
    "\n",
    "### Passo 1: Importar Módulo Necessário\n"
   ]
  },
  {
   "cell_type": "code",
   "execution_count": 4,
   "metadata": {},
   "outputs": [],
   "source": [
    "from fico.Backtesting_export_excel import Func_exportar_excel"
   ]
  },
  {
   "cell_type": "markdown",
   "metadata": {},
   "source": [
    "Importe a função `Func_exportar_excel` necessária para exportar os resultados para um arquivo Excel.\n",
    "\n",
    "### Passo 2: Exportar para Excel"
   ]
  },
  {
   "cell_type": "code",
   "execution_count": 5,
   "metadata": {},
   "outputs": [],
   "source": [
    "# Exportar para Excel\n",
    "try:\n",
    "    Func_exportar_excel(\n",
    "        info_verificao_total,\n",
    "        df_benchmark,\n",
    "        df_exportar,\n",
    "        indices_benchmark,\n",
    "        excel_file=\"Alocação.xlsx\",\n",
    "    )\n",
    "except:\n",
    "    input(\"Fechar o Excel e apertar Enter para continuar\")\n",
    "    Func_exportar_excel(\n",
    "        info_verificao_total,\n",
    "        df_benchmark,\n",
    "        df_exportar,\n",
    "        indices_benchmark,\n",
    "        excel_file=\"Alocação.xlsx\",\n",
    "    )"
   ]
  },
  {
   "cell_type": "markdown",
   "metadata": {},
   "source": [
    "Chame a função `Func_exportar_excel` passando os resultados e informações necessários. Em caso de problemas ao exportar, a função solicitará que você feche o Excel antes de tentar novamente.\n",
    "\n",
    "### Observação Importante\n",
    "\n",
    "- Certifique-se de ter o módulo `Backtesting_export_excel` disponível no ambiente de execução.\n",
    "\n",
    "Ao seguir esses passos, você terá os resultados do backtesting exportados para um arquivo Excel para uma análise mais detalhada."
   ]
  },
  {
   "cell_type": "markdown",
   "metadata": {},
   "source": [
    "---\n",
    "**Nota:** Analise cuidadosamente os resultados exportados para extrair insights valiosos.\n",
    "\n",
    "Este tutorial é parte do processo de análise de dados no contexto do projeto.\n",
    "\n",
    "---"
   ]
  }
 ],
 "metadata": {
  "kernelspec": {
   "display_name": "Python 3",
   "language": "python",
   "name": "python3"
  },
  "language_info": {
   "codemirror_mode": {
    "name": "ipython",
    "version": 3
   },
   "file_extension": ".py",
   "mimetype": "text/x-python",
   "name": "python",
   "nbconvert_exporter": "python",
   "pygments_lexer": "ipython3",
   "version": "3.11.4"
  }
 },
 "nbformat": 4,
 "nbformat_minor": 2
}
